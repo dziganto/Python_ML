{
 "cells": [
  {
   "cell_type": "markdown",
   "metadata": {},
   "source": [
    "# Description\n",
    "\n",
    "---\n",
    "\n",
    "### Introduction\n",
    "This dataset is built from scratch to test the EDA, pandas, and modeling abilities commensurate with the skills of an average junior data scientist. Specifically, this dataset has the following properties: \n",
    "\n",
    ">**Type:** Classification  \n",
    "**Balanced:** No (slightly imbalanced)  \n",
    "**Outliers:** Yes  \n",
    "**Simulated Human Data Entry Errors:** Yes  \n",
    "**Missing Values:** Yes  \n",
    "**Nonsensical Data Types:** Yes  \n",
    "\n",
    "Furthermore, the dataset is designed in such a way that relying on intuition alone will lead the data science practitioner astray. More on this later.\n",
    "\n",
    "### Problem Description\n",
    "InstaFace (IF) is a cutting edge startup specializing in facial recognition. As a hot tech startup, IF is constantly on the lookout for identifying and hiring the best talent. Because they are the best at what they do, their applicant pool is massive and growing. In fact, the number of applicants has grown so large and so fast that Human Resources just can't keep up, so they need your help to create an automated way to identify the most promising candidates. In particular, they asked that you create a model that can take a number of predefined inputs and output a probability that a particular candidate will be hired. The good news is IF has hired scores of data scientists, so the dataset is relatively rich. One thing to note is that IF has automated some of their information collecting processes but also relies on human data entry for the remainder. The latter has been a source of error in the past. \n",
    "\n",
    "### Features\n",
    "Below I describe the various features, whether that feature has any importance on the target variable, and if so the likelihood of someone being hired for a specific value of that feature\n",
    "\n",
    "---\n",
    "|Feature #|Description|Important|\n",
    "|:--:|:--:|:--:|\n",
    "|1|degree|Y|\n",
    "|2|age|N|\n",
    "|3|gender|N|\n",
    "|4|major|N|\n",
    "|5|GPA|N|\n",
    "|6|experience|Y|\n",
    "|7|bootcamp|Y|\n",
    "|8|GitHub|Y|\n",
    "|9|blogger|Y|\n",
    "|10|blogs|N|\n",
    "\n",
    "---\n",
    "\n",
    "#### Feature 1 \n",
    "* desc: highest degree achieved\n",
    "* important: Yes\n",
    "* values: [(NB=no bachelors, 8%), (B=bachelors, 70%), (M=masters, 80%), (P=PhD, 20%)]\n",
    "\n",
    "#### Feature 2\n",
    "* desc: age\n",
    "* important: No\n",
    "* values: [18, 60]\n",
    "\n",
    "#### Feature 3\n",
    "* desc: gender\n",
    "* important: No\n",
    "* values: [F=female, M=male\n",
    "\n",
    "#### Feature 4\n",
    "* desc: major\n",
    "* important: No\n",
    "* values: [AN=anthropology, BI=biology, BS=business, CH=chemistry, EN=engineering, JO=journalism, MA=math, PS=political science]\n",
    "\n",
    "#### Feature 5\n",
    "* desc: GPA\n",
    "* important: No\n",
    "* values: [1.00, 4.00]\n",
    "\n",
    "#### Feature 6\n",
    "* desc: years of experience\n",
    "* important: Yes\n",
    "* values: [(0-10, 90%), (10-25, 20%), (25-50, 5%)]\n",
    "\n",
    "#### Feature 7\n",
    "* desc: attended bootcamp\n",
    "* important: Yes\n",
    "* values: [(No, 25%), (Yes, 75%)]\n",
    "\n",
    "#### Feature 8\n",
    "* desc: number of projects on GitHub\n",
    "* important: Yes\n",
    "* values: [(0, 5%), (1-5, 65%), (6-20, 95%)]\n",
    "\n",
    "#### Feature 9\n",
    "* desc: writes data science blog posts\n",
    "* important: Yes\n",
    "* values: [(No, 30%), (Yes, 70%)]\n",
    "\n",
    "#### Feature 10\n",
    "* desc: number of blog articles written\n",
    "* important: No\n",
    "* values: [0, 40]\n",
    "\n",
    "### More Details\n",
    "Without looking at the data, many people would likely assume that a PhD would have better chances of getting hired than someone with a Master's and a Master's candidate would have better chances of getting hired than someone with a Bachelor's and so on. This is simply not true in this case. I specifically created this dataset in such a way that people with Bachelor's and Master's degrees are far more likely to get hired than PhD's or those without a degree.\n",
    "\n",
    "Regarding *age* and *gender*, one may reasonable conjecture that these attributes would be high impact with regard to hiring decisions since this is a well-known bias in many real companies. However, I specifically created this dataset so that hiring decisions were made independently of these two attributes. Again, the goal is to let the data speak for itself, not to rely on intuition. There is an interesting result lurking beneath the surface, however. *Age* is correlated with experience so it exhibits some signal but the true source is experience.\n",
    "\n",
    "One may also assume that *major* and *GPA* are strong predictors. That may be the case at some real-world companies but not in this case. They have no impact whatsoever. \n",
    "\n",
    "On the other hand, *years of experience*, *bootcamp experience*, *number of projects on GitHub*, and *blog experience* are all strong predictors. Specifically, the dataset was designed such that candidates with light experience, bootcamp experience, numerous indendent GitHub projects, and a data science blog are preferred. Surprisingly perhaps, the number of blog articles one writes is irrelevant. This was by design."
   ]
  },
  {
   "cell_type": "code",
   "execution_count": null,
   "metadata": {
    "collapsed": true
   },
   "outputs": [],
   "source": []
  },
  {
   "cell_type": "code",
   "execution_count": null,
   "metadata": {
    "collapsed": true
   },
   "outputs": [],
   "source": []
  },
  {
   "cell_type": "markdown",
   "metadata": {},
   "source": [
    "# IGNORE\n",
    "\n",
    "---\n",
    "\n",
    "### Experimental Section\n",
    "\n",
    "Hiring decisions are based on two factors. First, a vector indicating 0's or 1's (yes or on) as to whether a candidate met certain criteria. Secondly, a weighted score is generated based on that vector where a score greater than or equal to 70% indicates a decision in the affirmative. \n",
    "\n",
    "The weights for the important categories are as follows:\n",
    "\n",
    "|feature|Weight|\n",
    "|:--:|:--:|\n",
    "|degree|25%|\n",
    "|years exp|10%|\n",
    "|bootcamp|30%|\n",
    "|GH projects|25%|\n",
    "|blogs|10%|\n",
    "\n",
    "For example, say an applicant...to be completed."
   ]
  },
  {
   "cell_type": "code",
   "execution_count": 1,
   "metadata": {
    "collapsed": true
   },
   "outputs": [],
   "source": [
    "#def hiring_decision(input_vector, weights=(0.25, 0.1, 0.3, 0.25, 0.1)):\n",
    "#    out = round(np.dot(input_vector, weights), 5)\n",
    "#    test = \"yes\" if out >= 0.70 else \"no\"\n",
    "#    return out, test"
   ]
  },
  {
   "cell_type": "code",
   "execution_count": 2,
   "metadata": {
    "collapsed": true
   },
   "outputs": [],
   "source": [
    "#hiring_decision((1,0,1,1,0))"
   ]
  },
  {
   "cell_type": "code",
   "execution_count": null,
   "metadata": {
    "collapsed": true
   },
   "outputs": [],
   "source": []
  },
  {
   "cell_type": "code",
   "execution_count": null,
   "metadata": {
    "collapsed": true
   },
   "outputs": [],
   "source": []
  },
  {
   "cell_type": "markdown",
   "metadata": {},
   "source": [
    "---"
   ]
  },
  {
   "cell_type": "markdown",
   "metadata": {},
   "source": [
    "# Libraries"
   ]
  },
  {
   "cell_type": "code",
   "execution_count": 3,
   "metadata": {
    "collapsed": true
   },
   "outputs": [],
   "source": [
    "%matplotlib inline\n",
    "import matplotlib\n",
    "import matplotlib.pyplot as plt\n",
    "import numpy as np\n",
    "import pandas as pd\n",
    "import seaborn as sns\n",
    "from copy import deepcopy"
   ]
  },
  {
   "cell_type": "markdown",
   "metadata": {},
   "source": [
    "# Versions"
   ]
  },
  {
   "cell_type": "code",
   "execution_count": 4,
   "metadata": {},
   "outputs": [
    {
     "name": "stdout",
     "output_type": "stream",
     "text": [
      "Python 2.7.13 :: Anaconda 4.4.0 (x86_64)\r\n"
     ]
    }
   ],
   "source": [
    "!python --version"
   ]
  },
  {
   "cell_type": "code",
   "execution_count": 5,
   "metadata": {},
   "outputs": [
    {
     "name": "stdout",
     "output_type": "stream",
     "text": [
      "Numpy version: 1.13.0\n",
      "Pandas version: 0.20.1\n",
      "Matplotlib version: 2.0.2\n",
      "Seaborn version: 0.7.1\n"
     ]
    }
   ],
   "source": [
    "items = [(\"Numpy\", np), (\"Pandas\", pd), (\"Matplotlib\", matplotlib), (\"Seaborn\", sns)]\n",
    "for item in items:\n",
    "    print item[0] + \" version: \" + str(item[1].__version__)"
   ]
  },
  {
   "cell_type": "markdown",
   "metadata": {},
   "source": [
    "# Create Dataset"
   ]
  },
  {
   "cell_type": "code",
   "execution_count": 6,
   "metadata": {
    "collapsed": true
   },
   "outputs": [],
   "source": [
    "np.random.seed(10)\n",
    "size = 5000\n",
    "\n",
    "f1 = np.random.choice(a=range(4), size=size)\n",
    "f2 = np.random.choice(a=range(18,61), size=size)\n",
    "f3 = np.random.choice(a=range(2), size=size)\n",
    "f4 = np.random.choice(a=range(8), size=size)\n",
    "f5 = np.round(np.random.uniform(low=1.0, high=4.0, size=size), 2)\n",
    "f6 = np.random.choice(a=range(51), size=size)\n",
    "f7 = np.random.choice(a=range(2), size=size)\n",
    "f8 = np.random.choice(a=range(21), size=size)\n",
    "f9 = np.random.choice(a=range(2), size=size)\n",
    "f10 = np.random.choice(a=range(41), size=size)"
   ]
  },
  {
   "cell_type": "markdown",
   "metadata": {},
   "source": [
    "# Create DF"
   ]
  },
  {
   "cell_type": "code",
   "execution_count": 7,
   "metadata": {},
   "outputs": [
    {
     "data": {
      "text/html": [
       "<div>\n",
       "<style>\n",
       "    .dataframe thead tr:only-child th {\n",
       "        text-align: right;\n",
       "    }\n",
       "\n",
       "    .dataframe thead th {\n",
       "        text-align: left;\n",
       "    }\n",
       "\n",
       "    .dataframe tbody tr th {\n",
       "        vertical-align: top;\n",
       "    }\n",
       "</style>\n",
       "<table border=\"1\" class=\"dataframe\">\n",
       "  <thead>\n",
       "    <tr style=\"text-align: right;\">\n",
       "      <th></th>\n",
       "      <th>f1</th>\n",
       "      <th>f2</th>\n",
       "      <th>f3</th>\n",
       "      <th>f4</th>\n",
       "      <th>f5</th>\n",
       "      <th>f6</th>\n",
       "      <th>f7</th>\n",
       "      <th>f8</th>\n",
       "      <th>f9</th>\n",
       "      <th>f10</th>\n",
       "    </tr>\n",
       "  </thead>\n",
       "  <tbody>\n",
       "    <tr>\n",
       "      <th>0</th>\n",
       "      <td>1</td>\n",
       "      <td>25</td>\n",
       "      <td>1</td>\n",
       "      <td>5</td>\n",
       "      <td>1.15</td>\n",
       "      <td>14</td>\n",
       "      <td>0</td>\n",
       "      <td>3</td>\n",
       "      <td>1</td>\n",
       "      <td>7</td>\n",
       "    </tr>\n",
       "    <tr>\n",
       "      <th>1</th>\n",
       "      <td>1</td>\n",
       "      <td>21</td>\n",
       "      <td>0</td>\n",
       "      <td>0</td>\n",
       "      <td>3.61</td>\n",
       "      <td>5</td>\n",
       "      <td>0</td>\n",
       "      <td>5</td>\n",
       "      <td>0</td>\n",
       "      <td>31</td>\n",
       "    </tr>\n",
       "    <tr>\n",
       "      <th>2</th>\n",
       "      <td>0</td>\n",
       "      <td>45</td>\n",
       "      <td>1</td>\n",
       "      <td>6</td>\n",
       "      <td>2.39</td>\n",
       "      <td>24</td>\n",
       "      <td>1</td>\n",
       "      <td>14</td>\n",
       "      <td>0</td>\n",
       "      <td>35</td>\n",
       "    </tr>\n",
       "    <tr>\n",
       "      <th>3</th>\n",
       "      <td>3</td>\n",
       "      <td>54</td>\n",
       "      <td>1</td>\n",
       "      <td>5</td>\n",
       "      <td>1.98</td>\n",
       "      <td>23</td>\n",
       "      <td>0</td>\n",
       "      <td>19</td>\n",
       "      <td>1</td>\n",
       "      <td>13</td>\n",
       "    </tr>\n",
       "    <tr>\n",
       "      <th>4</th>\n",
       "      <td>0</td>\n",
       "      <td>51</td>\n",
       "      <td>1</td>\n",
       "      <td>7</td>\n",
       "      <td>1.98</td>\n",
       "      <td>44</td>\n",
       "      <td>0</td>\n",
       "      <td>14</td>\n",
       "      <td>0</td>\n",
       "      <td>24</td>\n",
       "    </tr>\n",
       "  </tbody>\n",
       "</table>\n",
       "</div>"
      ],
      "text/plain": [
       "   f1  f2  f3  f4    f5  f6  f7  f8  f9  f10\n",
       "0   1  25   1   5  1.15  14   0   3   1    7\n",
       "1   1  21   0   0  3.61   5   0   5   0   31\n",
       "2   0  45   1   6  2.39  24   1  14   0   35\n",
       "3   3  54   1   5  1.98  23   0  19   1   13\n",
       "4   0  51   1   7  1.98  44   0  14   0   24"
      ]
     },
     "execution_count": 7,
     "metadata": {},
     "output_type": "execute_result"
    }
   ],
   "source": [
    "mydict = {\"f1\":f1, \"f2\":f2, \"f3\":f3, \"f4\":f4, \"f5\":f5,\n",
    "          \"f6\":f6, \"f7\":f7, \"f8\":f8, \"f9\":f9, \"f10\":f10}\n",
    "original_df = pd.DataFrame(mydict, columns=[\"f1\", \"f2\", \"f3\", \"f4\", \"f5\", \"f6\", \"f7\", \"f8\", \"f9\", \"f10\"])\n",
    "original_df.head()"
   ]
  },
  {
   "cell_type": "markdown",
   "metadata": {},
   "source": [
    "# DF Processing - Deep Copy DF For Traceability"
   ]
  },
  {
   "cell_type": "code",
   "execution_count": 8,
   "metadata": {
    "collapsed": true
   },
   "outputs": [],
   "source": [
    "# New DF\n",
    "processed_df = deepcopy(original_df)\n",
    "processed_df['t1'] = None\n",
    "processed_df['t2'] = None\n",
    "processed_df['t3'] = None\n",
    "processed_df['t4'] = None\n",
    "processed_df['t5'] = None\n",
    "processed_df['target'] = None"
   ]
  },
  {
   "cell_type": "code",
   "execution_count": 9,
   "metadata": {},
   "outputs": [
    {
     "data": {
      "text/html": [
       "<div>\n",
       "<style>\n",
       "    .dataframe thead tr:only-child th {\n",
       "        text-align: right;\n",
       "    }\n",
       "\n",
       "    .dataframe thead th {\n",
       "        text-align: left;\n",
       "    }\n",
       "\n",
       "    .dataframe tbody tr th {\n",
       "        vertical-align: top;\n",
       "    }\n",
       "</style>\n",
       "<table border=\"1\" class=\"dataframe\">\n",
       "  <thead>\n",
       "    <tr style=\"text-align: right;\">\n",
       "      <th></th>\n",
       "      <th>f1</th>\n",
       "      <th>f2</th>\n",
       "      <th>f3</th>\n",
       "      <th>f4</th>\n",
       "      <th>f5</th>\n",
       "      <th>f6</th>\n",
       "      <th>f7</th>\n",
       "      <th>f8</th>\n",
       "      <th>f9</th>\n",
       "      <th>f10</th>\n",
       "      <th>t1</th>\n",
       "      <th>t2</th>\n",
       "      <th>t3</th>\n",
       "      <th>t4</th>\n",
       "      <th>t5</th>\n",
       "      <th>target</th>\n",
       "    </tr>\n",
       "  </thead>\n",
       "  <tbody>\n",
       "    <tr>\n",
       "      <th>0</th>\n",
       "      <td>1</td>\n",
       "      <td>25</td>\n",
       "      <td>1</td>\n",
       "      <td>5</td>\n",
       "      <td>1.15</td>\n",
       "      <td>14</td>\n",
       "      <td>0</td>\n",
       "      <td>3</td>\n",
       "      <td>1</td>\n",
       "      <td>7</td>\n",
       "      <td>None</td>\n",
       "      <td>None</td>\n",
       "      <td>None</td>\n",
       "      <td>None</td>\n",
       "      <td>None</td>\n",
       "      <td>None</td>\n",
       "    </tr>\n",
       "    <tr>\n",
       "      <th>1</th>\n",
       "      <td>1</td>\n",
       "      <td>21</td>\n",
       "      <td>0</td>\n",
       "      <td>0</td>\n",
       "      <td>3.61</td>\n",
       "      <td>5</td>\n",
       "      <td>0</td>\n",
       "      <td>5</td>\n",
       "      <td>0</td>\n",
       "      <td>31</td>\n",
       "      <td>None</td>\n",
       "      <td>None</td>\n",
       "      <td>None</td>\n",
       "      <td>None</td>\n",
       "      <td>None</td>\n",
       "      <td>None</td>\n",
       "    </tr>\n",
       "    <tr>\n",
       "      <th>2</th>\n",
       "      <td>0</td>\n",
       "      <td>45</td>\n",
       "      <td>1</td>\n",
       "      <td>6</td>\n",
       "      <td>2.39</td>\n",
       "      <td>24</td>\n",
       "      <td>1</td>\n",
       "      <td>14</td>\n",
       "      <td>0</td>\n",
       "      <td>35</td>\n",
       "      <td>None</td>\n",
       "      <td>None</td>\n",
       "      <td>None</td>\n",
       "      <td>None</td>\n",
       "      <td>None</td>\n",
       "      <td>None</td>\n",
       "    </tr>\n",
       "    <tr>\n",
       "      <th>3</th>\n",
       "      <td>3</td>\n",
       "      <td>54</td>\n",
       "      <td>1</td>\n",
       "      <td>5</td>\n",
       "      <td>1.98</td>\n",
       "      <td>23</td>\n",
       "      <td>0</td>\n",
       "      <td>19</td>\n",
       "      <td>1</td>\n",
       "      <td>13</td>\n",
       "      <td>None</td>\n",
       "      <td>None</td>\n",
       "      <td>None</td>\n",
       "      <td>None</td>\n",
       "      <td>None</td>\n",
       "      <td>None</td>\n",
       "    </tr>\n",
       "    <tr>\n",
       "      <th>4</th>\n",
       "      <td>0</td>\n",
       "      <td>51</td>\n",
       "      <td>1</td>\n",
       "      <td>7</td>\n",
       "      <td>1.98</td>\n",
       "      <td>44</td>\n",
       "      <td>0</td>\n",
       "      <td>14</td>\n",
       "      <td>0</td>\n",
       "      <td>24</td>\n",
       "      <td>None</td>\n",
       "      <td>None</td>\n",
       "      <td>None</td>\n",
       "      <td>None</td>\n",
       "      <td>None</td>\n",
       "      <td>None</td>\n",
       "    </tr>\n",
       "  </tbody>\n",
       "</table>\n",
       "</div>"
      ],
      "text/plain": [
       "   f1  f2  f3  f4    f5  f6  f7  f8  f9  f10    t1    t2    t3    t4    t5  \\\n",
       "0   1  25   1   5  1.15  14   0   3   1    7  None  None  None  None  None   \n",
       "1   1  21   0   0  3.61   5   0   5   0   31  None  None  None  None  None   \n",
       "2   0  45   1   6  2.39  24   1  14   0   35  None  None  None  None  None   \n",
       "3   3  54   1   5  1.98  23   0  19   1   13  None  None  None  None  None   \n",
       "4   0  51   1   7  1.98  44   0  14   0   24  None  None  None  None  None   \n",
       "\n",
       "  target  \n",
       "0   None  \n",
       "1   None  \n",
       "2   None  \n",
       "3   None  \n",
       "4   None  "
      ]
     },
     "execution_count": 9,
     "metadata": {},
     "output_type": "execute_result"
    }
   ],
   "source": [
    "processed_df.head()"
   ]
  },
  {
   "cell_type": "markdown",
   "metadata": {},
   "source": [
    "#### Generate Target Variable Based On Predetermined Rules"
   ]
  },
  {
   "cell_type": "code",
   "execution_count": 10,
   "metadata": {
    "collapsed": true
   },
   "outputs": [],
   "source": [
    "# Set pre-target values\n",
    "np.random.seed(42)\n",
    "for i, _ in processed_df.iterrows(): \n",
    "    for feature in [1, 6, 7, 8, 9]:\n",
    "        if feature == 1:  \n",
    "            if processed_df.loc[i, 'f1'] == 0:\n",
    "                processed_df.loc[i, 't1'] = int(np.random.choice(a=range(2), size=1, p=[0.92, 0.08])) ## NB=0 (no bachelors)\n",
    "            elif processed_df.loc[i, 'f1'] == 1:\n",
    "                processed_df.loc[i, 't1'] = int(np.random.choice(a=range(2), size=1, p=[0.30, 0.70])) ## B=1  (bachelors)\n",
    "            elif processed_df.loc[i, 'f1'] == 2:\n",
    "                processed_df.loc[i, 't1'] = int(np.random.choice(a=range(2), size=1, p=[0.20, 0.80])) ## M=2  (masters)\n",
    "            else:\n",
    "                processed_df.loc[i, 't1'] = int(np.random.choice(a=range(2), size=1, p=[0.80, 0.20])) ## P=3  (PhD)\n",
    "        elif feature == 6:\n",
    "            if processed_df.loc[i, 'f2'] - processed_df.loc[i, 'f6'] <= 0:\n",
    "                processed_df.loc[i, 'f6'] = processed_df.loc[i, 'f2'] - 18  ## adjust exp > age by subtracting 18\n",
    "                if processed_df.loc[i, 'f6'] <= 10:\n",
    "                    processed_df.loc[i, 't2'] = int(np.random.choice(a=range(2), size=1, p=[0.10, 0.90])) ## <= 10 yrs exp\n",
    "                elif processed_df.loc[i, 'f6'] <= 25:\n",
    "                    processed_df.loc[i, 't2'] = int(np.random.choice(a=range(2), size=1, p=[0.80, 0.20])) ## 11-25 yrs exp\n",
    "                else:\n",
    "                    processed_df.loc[i, 't2'] = int(np.random.choice(a=range(2), size=1, p=[0.95, 0.05])) ## >= 26 yrs exp\n",
    "            else:\n",
    "                if processed_df.loc[i, 'f6'] <= 10:\n",
    "                    processed_df.loc[i, 't2'] = int(np.random.choice(a=range(2), size=1, p=[0.10, 0.90])) ## <= 10 yrs exp\n",
    "                elif processed_df.loc[i, 'f6'] <= 25:\n",
    "                    processed_df.loc[i, 't2'] = int(np.random.choice(a=range(2), size=1, p=[0.80, 0.20])) ## 11-25 yrs exp\n",
    "                else:\n",
    "                    processed_df.loc[i, 't2'] = int(np.random.choice(a=range(2), size=1, p=[0.95, 0.05])) ## >= 26 yrs exp\n",
    "        elif feature == 7:\n",
    "            if processed_df.loc[i, 'f7']:\n",
    "                processed_df.loc[i, 't3'] = int(np.random.choice(a=range(2), size=1, p=[0.25, 0.75])) ## bootcamp\n",
    "            else:\n",
    "                processed_df.loc[i, 't3'] = int(np.random.choice(a=range(2), size=1, p=[0.50, 0.50])) ## no bootcamp\n",
    "        elif feature == 8:\n",
    "            if processed_df.loc[i, 'f8'] == 0:\n",
    "                processed_df.loc[i, 't4'] = int(np.random.choice(a=range(2), size=1, p=[0.95, 0.05])) ## 0 projects\n",
    "            elif processed_df.loc[i, 'f8'] <= 5:\n",
    "                processed_df.loc[i, 't4'] = int(np.random.choice(a=range(2), size=1, p=[0.35, 0.65])) ## 1-5 projects\n",
    "            else:\n",
    "                processed_df.loc[i, 't4'] = int(np.random.choice(a=range(2), size=1, p=[0.05, 0.95])) ## > 5 projects\n",
    "        else:\n",
    "            if processed_df.loc[i, 'f9']:\n",
    "                processed_df.loc[i, 't5'] = int(np.random.choice(a=range(2), size=1, p=[0.30, 0.70])) ## blogger\n",
    "            else:\n",
    "                processed_df.loc[i, 't5'] = int(np.random.choice(a=range(2), size=1, p=[0.50, 0.50])) ## !blogger\n",
    "    # Set target\n",
    "    processed_df.loc[i, 'target'] = 1 if (processed_df.loc[i,'t1'] + processed_df.loc[i,'t2'] + processed_df.loc[i,'t3'] + processed_df.loc[i,'t4'] >= 3) else 0\n",
    "processed_df['target'] = processed_df['target'].apply(pd.to_numeric)"
   ]
  },
  {
   "cell_type": "markdown",
   "metadata": {
    "collapsed": true
   },
   "source": [
    "#### Update Column Names"
   ]
  },
  {
   "cell_type": "code",
   "execution_count": 11,
   "metadata": {
    "collapsed": true
   },
   "outputs": [],
   "source": [
    "processed_df = processed_df.rename(columns={'f1':'degree','f2':'age','f3':'gender','f4':'major', 'f5':'gpa',\n",
    "                                        'f6':'experience','f7':'bootcamp','f8':'github','f9':'blog','f10':'articles',\n",
    "                                        'target': 'hired'})\n",
    "processed_df.drop(processed_df[['t1', 't2', 't3', 't4', 't5']], axis=1, inplace=True)"
   ]
  },
  {
   "cell_type": "markdown",
   "metadata": {},
   "source": [
    "#### Randomly Flip Some Target Values (for complexity)"
   ]
  },
  {
   "cell_type": "code",
   "execution_count": 12,
   "metadata": {
    "collapsed": true
   },
   "outputs": [],
   "source": [
    "# adds complexity to modeling\n",
    "np.random.seed(12)\n",
    "\n",
    "percent_to_flip = 0.05  ## flip 5% of targets\n",
    "num_to_flip = int(np.floor(percent_to_flip * len(processed_df)))\n",
    "flip_idx = np.random.randint(low=0, high=len(processed_df), size=num_to_flip)\n",
    "\n",
    "for i, _ in processed_df.loc[flip_idx].iterrows(): \n",
    "    if processed_df.loc[i, 'hired'] == 1:\n",
    "        processed_df.loc[i, 'hired'] = 0\n",
    "    else:\n",
    "        processed_df.loc[i, 'hired'] = 1"
   ]
  },
  {
   "cell_type": "code",
   "execution_count": 13,
   "metadata": {},
   "outputs": [
    {
     "data": {
      "text/html": [
       "<div>\n",
       "<style>\n",
       "    .dataframe thead tr:only-child th {\n",
       "        text-align: right;\n",
       "    }\n",
       "\n",
       "    .dataframe thead th {\n",
       "        text-align: left;\n",
       "    }\n",
       "\n",
       "    .dataframe tbody tr th {\n",
       "        vertical-align: top;\n",
       "    }\n",
       "</style>\n",
       "<table border=\"1\" class=\"dataframe\">\n",
       "  <thead>\n",
       "    <tr style=\"text-align: right;\">\n",
       "      <th></th>\n",
       "      <th>degree</th>\n",
       "      <th>age</th>\n",
       "      <th>gender</th>\n",
       "      <th>major</th>\n",
       "      <th>gpa</th>\n",
       "      <th>experience</th>\n",
       "      <th>bootcamp</th>\n",
       "      <th>github</th>\n",
       "      <th>blog</th>\n",
       "      <th>articles</th>\n",
       "      <th>hired</th>\n",
       "    </tr>\n",
       "  </thead>\n",
       "  <tbody>\n",
       "    <tr>\n",
       "      <th>0</th>\n",
       "      <td>1</td>\n",
       "      <td>25</td>\n",
       "      <td>1</td>\n",
       "      <td>5</td>\n",
       "      <td>1.15</td>\n",
       "      <td>14</td>\n",
       "      <td>0</td>\n",
       "      <td>3</td>\n",
       "      <td>1</td>\n",
       "      <td>7</td>\n",
       "      <td>1</td>\n",
       "    </tr>\n",
       "    <tr>\n",
       "      <th>1</th>\n",
       "      <td>1</td>\n",
       "      <td>21</td>\n",
       "      <td>0</td>\n",
       "      <td>0</td>\n",
       "      <td>3.61</td>\n",
       "      <td>5</td>\n",
       "      <td>0</td>\n",
       "      <td>5</td>\n",
       "      <td>0</td>\n",
       "      <td>31</td>\n",
       "      <td>0</td>\n",
       "    </tr>\n",
       "    <tr>\n",
       "      <th>2</th>\n",
       "      <td>0</td>\n",
       "      <td>45</td>\n",
       "      <td>1</td>\n",
       "      <td>6</td>\n",
       "      <td>2.39</td>\n",
       "      <td>24</td>\n",
       "      <td>1</td>\n",
       "      <td>14</td>\n",
       "      <td>0</td>\n",
       "      <td>35</td>\n",
       "      <td>1</td>\n",
       "    </tr>\n",
       "    <tr>\n",
       "      <th>3</th>\n",
       "      <td>3</td>\n",
       "      <td>54</td>\n",
       "      <td>1</td>\n",
       "      <td>5</td>\n",
       "      <td>1.98</td>\n",
       "      <td>23</td>\n",
       "      <td>0</td>\n",
       "      <td>19</td>\n",
       "      <td>1</td>\n",
       "      <td>13</td>\n",
       "      <td>0</td>\n",
       "    </tr>\n",
       "    <tr>\n",
       "      <th>4</th>\n",
       "      <td>0</td>\n",
       "      <td>51</td>\n",
       "      <td>1</td>\n",
       "      <td>7</td>\n",
       "      <td>1.98</td>\n",
       "      <td>44</td>\n",
       "      <td>0</td>\n",
       "      <td>14</td>\n",
       "      <td>0</td>\n",
       "      <td>24</td>\n",
       "      <td>0</td>\n",
       "    </tr>\n",
       "  </tbody>\n",
       "</table>\n",
       "</div>"
      ],
      "text/plain": [
       "   degree  age  gender  major   gpa  experience  bootcamp  github  blog  \\\n",
       "0       1   25       1      5  1.15          14         0       3     1   \n",
       "1       1   21       0      0  3.61           5         0       5     0   \n",
       "2       0   45       1      6  2.39          24         1      14     0   \n",
       "3       3   54       1      5  1.98          23         0      19     1   \n",
       "4       0   51       1      7  1.98          44         0      14     0   \n",
       "\n",
       "   articles  hired  \n",
       "0         7      1  \n",
       "1        31      0  \n",
       "2        35      1  \n",
       "3        13      0  \n",
       "4        24      0  "
      ]
     },
     "execution_count": 13,
     "metadata": {},
     "output_type": "execute_result"
    }
   ],
   "source": [
    "processed_df.head()"
   ]
  },
  {
   "cell_type": "markdown",
   "metadata": {},
   "source": [
    "#### Check Class Balance"
   ]
  },
  {
   "cell_type": "code",
   "execution_count": 14,
   "metadata": {},
   "outputs": [
    {
     "data": {
      "text/plain": [
       "0.426"
      ]
     },
     "execution_count": 14,
     "metadata": {},
     "output_type": "execute_result"
    }
   ],
   "source": [
    "round(processed_df.hired.mean(), 3) "
   ]
  },
  {
   "cell_type": "markdown",
   "metadata": {
    "collapsed": true
   },
   "source": [
    "# Write To Disk"
   ]
  },
  {
   "cell_type": "code",
   "execution_count": 15,
   "metadata": {},
   "outputs": [],
   "source": [
    "# Write to disk\n",
    "processed_df.to_hdf('/Users/davidziganto/Work/data/simulated_raw_data.h5', \n",
    "                    'table',\n",
    "                    mode='w', \n",
    "                    append=True, \n",
    "                    complevel=9, \n",
    "                    complib='blosc', \n",
    "                    fletcher32=True)"
   ]
  }
 ],
 "metadata": {
  "kernelspec": {
   "display_name": "Python 2",
   "language": "python",
   "name": "python2"
  },
  "language_info": {
   "codemirror_mode": {
    "name": "ipython",
    "version": 2
   },
   "file_extension": ".py",
   "mimetype": "text/x-python",
   "name": "python",
   "nbconvert_exporter": "python",
   "pygments_lexer": "ipython2",
   "version": "2.7.13"
  }
 },
 "nbformat": 4,
 "nbformat_minor": 2
}
