{
 "cells": [
  {
   "cell_type": "markdown",
   "metadata": {},
   "source": [
    "# Description\n",
    "\n",
    "---\n",
    "\n",
    "### Introduction\n",
    "To be completed...\n",
    "\n",
    "### Corruption Process\n",
    "To be completed..."
   ]
  },
  {
   "cell_type": "markdown",
   "metadata": {},
   "source": [
    "---"
   ]
  },
  {
   "cell_type": "markdown",
   "metadata": {},
   "source": [
    "# Libraries"
   ]
  },
  {
   "cell_type": "code",
   "execution_count": 1,
   "metadata": {
    "collapsed": true
   },
   "outputs": [],
   "source": [
    "%matplotlib inline\n",
    "import matplotlib\n",
    "import matplotlib.pyplot as plt\n",
    "import numpy as np\n",
    "import pandas as pd\n",
    "import seaborn as sns"
   ]
  },
  {
   "cell_type": "markdown",
   "metadata": {},
   "source": [
    "# Versions"
   ]
  },
  {
   "cell_type": "code",
   "execution_count": 2,
   "metadata": {},
   "outputs": [
    {
     "name": "stdout",
     "output_type": "stream",
     "text": [
      "Python 2.7.13 :: Anaconda 4.4.0 (x86_64)\r\n"
     ]
    }
   ],
   "source": [
    "!python --version"
   ]
  },
  {
   "cell_type": "code",
   "execution_count": 3,
   "metadata": {},
   "outputs": [
    {
     "name": "stdout",
     "output_type": "stream",
     "text": [
      "Numpy version: 1.13.0\n",
      "Pandas version: 0.20.1\n",
      "Matplotlib version: 2.0.2\n",
      "Seaborn version: 0.7.1\n"
     ]
    }
   ],
   "source": [
    "items = [(\"Numpy\", np), (\"Pandas\", pd), (\"Matplotlib\", matplotlib), (\"Seaborn\", sns)]\n",
    "for item in items:\n",
    "    print item[0] + \" version: \" + str(item[1].__version__)"
   ]
  },
  {
   "cell_type": "markdown",
   "metadata": {},
   "source": [
    "# Get Data"
   ]
  },
  {
   "cell_type": "code",
   "execution_count": 4,
   "metadata": {
    "collapsed": true
   },
   "outputs": [],
   "source": [
    "# Read from disk\n",
    "data = pd.read_hdf('/Users/davidziganto/Work/data/simulated_raw_data.h5', 'table')"
   ]
  },
  {
   "cell_type": "markdown",
   "metadata": {},
   "source": [
    "# DF Details"
   ]
  },
  {
   "cell_type": "code",
   "execution_count": 5,
   "metadata": {},
   "outputs": [
    {
     "data": {
      "text/html": [
       "<div>\n",
       "<style>\n",
       "    .dataframe thead tr:only-child th {\n",
       "        text-align: right;\n",
       "    }\n",
       "\n",
       "    .dataframe thead th {\n",
       "        text-align: left;\n",
       "    }\n",
       "\n",
       "    .dataframe tbody tr th {\n",
       "        vertical-align: top;\n",
       "    }\n",
       "</style>\n",
       "<table border=\"1\" class=\"dataframe\">\n",
       "  <thead>\n",
       "    <tr style=\"text-align: right;\">\n",
       "      <th></th>\n",
       "      <th>degree</th>\n",
       "      <th>age</th>\n",
       "      <th>gender</th>\n",
       "      <th>major</th>\n",
       "      <th>gpa</th>\n",
       "      <th>experience</th>\n",
       "      <th>bootcamp</th>\n",
       "      <th>github</th>\n",
       "      <th>blog</th>\n",
       "      <th>articles</th>\n",
       "      <th>hired</th>\n",
       "    </tr>\n",
       "  </thead>\n",
       "  <tbody>\n",
       "    <tr>\n",
       "      <th>0</th>\n",
       "      <td>1</td>\n",
       "      <td>25</td>\n",
       "      <td>1</td>\n",
       "      <td>5</td>\n",
       "      <td>1.15</td>\n",
       "      <td>14</td>\n",
       "      <td>0</td>\n",
       "      <td>3</td>\n",
       "      <td>1</td>\n",
       "      <td>7</td>\n",
       "      <td>1</td>\n",
       "    </tr>\n",
       "    <tr>\n",
       "      <th>1</th>\n",
       "      <td>1</td>\n",
       "      <td>21</td>\n",
       "      <td>0</td>\n",
       "      <td>0</td>\n",
       "      <td>3.61</td>\n",
       "      <td>5</td>\n",
       "      <td>0</td>\n",
       "      <td>5</td>\n",
       "      <td>0</td>\n",
       "      <td>31</td>\n",
       "      <td>0</td>\n",
       "    </tr>\n",
       "    <tr>\n",
       "      <th>2</th>\n",
       "      <td>0</td>\n",
       "      <td>45</td>\n",
       "      <td>1</td>\n",
       "      <td>6</td>\n",
       "      <td>2.39</td>\n",
       "      <td>24</td>\n",
       "      <td>1</td>\n",
       "      <td>14</td>\n",
       "      <td>0</td>\n",
       "      <td>35</td>\n",
       "      <td>1</td>\n",
       "    </tr>\n",
       "    <tr>\n",
       "      <th>3</th>\n",
       "      <td>3</td>\n",
       "      <td>54</td>\n",
       "      <td>1</td>\n",
       "      <td>5</td>\n",
       "      <td>1.98</td>\n",
       "      <td>23</td>\n",
       "      <td>0</td>\n",
       "      <td>19</td>\n",
       "      <td>1</td>\n",
       "      <td>13</td>\n",
       "      <td>0</td>\n",
       "    </tr>\n",
       "    <tr>\n",
       "      <th>4</th>\n",
       "      <td>0</td>\n",
       "      <td>51</td>\n",
       "      <td>1</td>\n",
       "      <td>7</td>\n",
       "      <td>1.98</td>\n",
       "      <td>44</td>\n",
       "      <td>0</td>\n",
       "      <td>14</td>\n",
       "      <td>0</td>\n",
       "      <td>24</td>\n",
       "      <td>0</td>\n",
       "    </tr>\n",
       "  </tbody>\n",
       "</table>\n",
       "</div>"
      ],
      "text/plain": [
       "   degree  age  gender  major   gpa  experience  bootcamp  github  blog  \\\n",
       "0       1   25       1      5  1.15          14         0       3     1   \n",
       "1       1   21       0      0  3.61           5         0       5     0   \n",
       "2       0   45       1      6  2.39          24         1      14     0   \n",
       "3       3   54       1      5  1.98          23         0      19     1   \n",
       "4       0   51       1      7  1.98          44         0      14     0   \n",
       "\n",
       "   articles  hired  \n",
       "0         7      1  \n",
       "1        31      0  \n",
       "2        35      1  \n",
       "3        13      0  \n",
       "4        24      0  "
      ]
     },
     "execution_count": 5,
     "metadata": {},
     "output_type": "execute_result"
    }
   ],
   "source": [
    "data.head()"
   ]
  },
  {
   "cell_type": "code",
   "execution_count": 6,
   "metadata": {},
   "outputs": [
    {
     "data": {
      "text/html": [
       "<div>\n",
       "<style>\n",
       "    .dataframe thead tr:only-child th {\n",
       "        text-align: right;\n",
       "    }\n",
       "\n",
       "    .dataframe thead th {\n",
       "        text-align: left;\n",
       "    }\n",
       "\n",
       "    .dataframe tbody tr th {\n",
       "        vertical-align: top;\n",
       "    }\n",
       "</style>\n",
       "<table border=\"1\" class=\"dataframe\">\n",
       "  <thead>\n",
       "    <tr style=\"text-align: right;\">\n",
       "      <th></th>\n",
       "      <th>degree</th>\n",
       "      <th>age</th>\n",
       "      <th>gender</th>\n",
       "      <th>major</th>\n",
       "      <th>gpa</th>\n",
       "      <th>experience</th>\n",
       "      <th>bootcamp</th>\n",
       "      <th>github</th>\n",
       "      <th>blog</th>\n",
       "      <th>articles</th>\n",
       "      <th>hired</th>\n",
       "    </tr>\n",
       "  </thead>\n",
       "  <tbody>\n",
       "    <tr>\n",
       "      <th>count</th>\n",
       "      <td>5000.000000</td>\n",
       "      <td>5000.000000</td>\n",
       "      <td>5000.000000</td>\n",
       "      <td>5000.000000</td>\n",
       "      <td>5000.000000</td>\n",
       "      <td>5000.000000</td>\n",
       "      <td>5000.000000</td>\n",
       "      <td>5000.000000</td>\n",
       "      <td>5000.000000</td>\n",
       "      <td>5000.000000</td>\n",
       "      <td>5000.000000</td>\n",
       "    </tr>\n",
       "    <tr>\n",
       "      <th>mean</th>\n",
       "      <td>1.517000</td>\n",
       "      <td>39.248200</td>\n",
       "      <td>0.500800</td>\n",
       "      <td>3.521200</td>\n",
       "      <td>2.507124</td>\n",
       "      <td>17.877400</td>\n",
       "      <td>0.491400</td>\n",
       "      <td>9.754800</td>\n",
       "      <td>0.496200</td>\n",
       "      <td>20.043200</td>\n",
       "      <td>0.425800</td>\n",
       "    </tr>\n",
       "    <tr>\n",
       "      <th>std</th>\n",
       "      <td>1.119983</td>\n",
       "      <td>12.394052</td>\n",
       "      <td>0.500049</td>\n",
       "      <td>2.274068</td>\n",
       "      <td>0.872693</td>\n",
       "      <td>12.935109</td>\n",
       "      <td>0.499976</td>\n",
       "      <td>6.025076</td>\n",
       "      <td>0.500036</td>\n",
       "      <td>11.784342</td>\n",
       "      <td>0.494513</td>\n",
       "    </tr>\n",
       "    <tr>\n",
       "      <th>min</th>\n",
       "      <td>0.000000</td>\n",
       "      <td>18.000000</td>\n",
       "      <td>0.000000</td>\n",
       "      <td>0.000000</td>\n",
       "      <td>1.000000</td>\n",
       "      <td>0.000000</td>\n",
       "      <td>0.000000</td>\n",
       "      <td>0.000000</td>\n",
       "      <td>0.000000</td>\n",
       "      <td>0.000000</td>\n",
       "      <td>0.000000</td>\n",
       "    </tr>\n",
       "    <tr>\n",
       "      <th>25%</th>\n",
       "      <td>1.000000</td>\n",
       "      <td>29.000000</td>\n",
       "      <td>0.000000</td>\n",
       "      <td>2.000000</td>\n",
       "      <td>1.740000</td>\n",
       "      <td>7.000000</td>\n",
       "      <td>0.000000</td>\n",
       "      <td>5.000000</td>\n",
       "      <td>0.000000</td>\n",
       "      <td>10.000000</td>\n",
       "      <td>0.000000</td>\n",
       "    </tr>\n",
       "    <tr>\n",
       "      <th>50%</th>\n",
       "      <td>2.000000</td>\n",
       "      <td>39.000000</td>\n",
       "      <td>1.000000</td>\n",
       "      <td>4.000000</td>\n",
       "      <td>2.500000</td>\n",
       "      <td>16.000000</td>\n",
       "      <td>0.000000</td>\n",
       "      <td>10.000000</td>\n",
       "      <td>0.000000</td>\n",
       "      <td>20.000000</td>\n",
       "      <td>0.000000</td>\n",
       "    </tr>\n",
       "    <tr>\n",
       "      <th>75%</th>\n",
       "      <td>3.000000</td>\n",
       "      <td>50.000000</td>\n",
       "      <td>1.000000</td>\n",
       "      <td>5.000000</td>\n",
       "      <td>3.280000</td>\n",
       "      <td>27.000000</td>\n",
       "      <td>1.000000</td>\n",
       "      <td>15.000000</td>\n",
       "      <td>1.000000</td>\n",
       "      <td>30.000000</td>\n",
       "      <td>1.000000</td>\n",
       "    </tr>\n",
       "    <tr>\n",
       "      <th>max</th>\n",
       "      <td>3.000000</td>\n",
       "      <td>60.000000</td>\n",
       "      <td>1.000000</td>\n",
       "      <td>7.000000</td>\n",
       "      <td>4.000000</td>\n",
       "      <td>50.000000</td>\n",
       "      <td>1.000000</td>\n",
       "      <td>20.000000</td>\n",
       "      <td>1.000000</td>\n",
       "      <td>40.000000</td>\n",
       "      <td>1.000000</td>\n",
       "    </tr>\n",
       "  </tbody>\n",
       "</table>\n",
       "</div>"
      ],
      "text/plain": [
       "            degree          age       gender        major          gpa  \\\n",
       "count  5000.000000  5000.000000  5000.000000  5000.000000  5000.000000   \n",
       "mean      1.517000    39.248200     0.500800     3.521200     2.507124   \n",
       "std       1.119983    12.394052     0.500049     2.274068     0.872693   \n",
       "min       0.000000    18.000000     0.000000     0.000000     1.000000   \n",
       "25%       1.000000    29.000000     0.000000     2.000000     1.740000   \n",
       "50%       2.000000    39.000000     1.000000     4.000000     2.500000   \n",
       "75%       3.000000    50.000000     1.000000     5.000000     3.280000   \n",
       "max       3.000000    60.000000     1.000000     7.000000     4.000000   \n",
       "\n",
       "        experience     bootcamp       github         blog     articles  \\\n",
       "count  5000.000000  5000.000000  5000.000000  5000.000000  5000.000000   \n",
       "mean     17.877400     0.491400     9.754800     0.496200    20.043200   \n",
       "std      12.935109     0.499976     6.025076     0.500036    11.784342   \n",
       "min       0.000000     0.000000     0.000000     0.000000     0.000000   \n",
       "25%       7.000000     0.000000     5.000000     0.000000    10.000000   \n",
       "50%      16.000000     0.000000    10.000000     0.000000    20.000000   \n",
       "75%      27.000000     1.000000    15.000000     1.000000    30.000000   \n",
       "max      50.000000     1.000000    20.000000     1.000000    40.000000   \n",
       "\n",
       "             hired  \n",
       "count  5000.000000  \n",
       "mean      0.425800  \n",
       "std       0.494513  \n",
       "min       0.000000  \n",
       "25%       0.000000  \n",
       "50%       0.000000  \n",
       "75%       1.000000  \n",
       "max       1.000000  "
      ]
     },
     "execution_count": 6,
     "metadata": {},
     "output_type": "execute_result"
    }
   ],
   "source": [
    "data.describe()"
   ]
  },
  {
   "cell_type": "markdown",
   "metadata": {},
   "source": [
    "# Corruption Process"
   ]
  },
  {
   "cell_type": "code",
   "execution_count": 7,
   "metadata": {
    "collapsed": true
   },
   "outputs": [],
   "source": [
    "# Considered changing numbers to text but would make scoring difficult bc how numbers are coded matters, \n",
    "# so decided to avoid altogether. Will include dictionary instead.\n",
    "\n",
    "# Change degree to strings\n",
    "#data.degree.replace(range(4), ['NB','B','M','P'], inplace=True)\n",
    "# Change gender to F/M\n",
    "#data.gender.replace(range(2), ['F','M'], inplace=True)\n",
    "# Change major to strings\n",
    "#data.major.replace(range(8), ['AN','BI','BS','CH','EN','JO','MA','PS'], inplace=True)\n",
    "# Change bootcamp to No/Yes\n",
    "#data.bootcamp.replace(range(2), ['No','Yes'], inplace=True)\n",
    "# Change blog to No/Yes\n",
    "#data.blog.replace(range(2), ['No','Yes'], inplace=True)\n",
    "# Change hirec to No/Yes\n",
    "#data.hired.replace(range(2), ['No','Yes'], inplace=True)"
   ]
  },
  {
   "cell_type": "markdown",
   "metadata": {
    "collapsed": true
   },
   "source": [
    "### [1] Add Outliers"
   ]
  },
  {
   "cell_type": "code",
   "execution_count": 8,
   "metadata": {
    "collapsed": true
   },
   "outputs": [],
   "source": [
    "# Note: these changes do NOT impact the models but are there for future improvements\n",
    "\n",
    "# add ridiculous age\n",
    "np.random.seed(24)\n",
    "age_outlier_idx = np.random.randint(low=0, high=len(data.age[data['age']==39]), size=1)\n",
    "for i, _ in data.iterrows():\n",
    "    if data.loc[i, 'age'] == 39 & i==age_outlier_idx:\n",
    "        data.loc[i, 'age'] = int(np.random.choice(a=range(120,161), size=1))\n",
    "    else:\n",
    "        pass\n",
    "        \n",
    "# years of experience that can't possibly be true given person's age (e.g. age=30, yrs exp=28)\n",
    "# is already baked in; check age & experience"
   ]
  },
  {
   "cell_type": "markdown",
   "metadata": {},
   "source": [
    "### [2] Simulate Data Entry Error"
   ]
  },
  {
   "cell_type": "code",
   "execution_count": 9,
   "metadata": {
    "collapsed": true
   },
   "outputs": [],
   "source": [
    "# Note: these changes definitely affect models bc values are not possible!\n",
    "\n",
    "np.random.seed(42)\n",
    "input_error_idx = np.random.randint(low=0, high=len(data), size=3)\n",
    "\n",
    "# GPA range is [1.0, 4.0] so add one that's too high (e.g. 4.21)\n",
    "data.loc[input_error_idx[0], 'gpa'] = 4.21\n",
    "\n",
    "# blogger var is [0, 1] but add value of 2\n",
    "data.loc[input_error_idx[1], 'blog'] = 2\n",
    "data.loc[input_error_idx[2], 'blog'] = 2"
   ]
  },
  {
   "cell_type": "code",
   "execution_count": 10,
   "metadata": {},
   "outputs": [
    {
     "data": {
      "text/html": [
       "<div>\n",
       "<style>\n",
       "    .dataframe thead tr:only-child th {\n",
       "        text-align: right;\n",
       "    }\n",
       "\n",
       "    .dataframe thead th {\n",
       "        text-align: left;\n",
       "    }\n",
       "\n",
       "    .dataframe tbody tr th {\n",
       "        vertical-align: top;\n",
       "    }\n",
       "</style>\n",
       "<table border=\"1\" class=\"dataframe\">\n",
       "  <thead>\n",
       "    <tr style=\"text-align: right;\">\n",
       "      <th></th>\n",
       "      <th>degree</th>\n",
       "      <th>age</th>\n",
       "      <th>gender</th>\n",
       "      <th>major</th>\n",
       "      <th>gpa</th>\n",
       "      <th>experience</th>\n",
       "      <th>bootcamp</th>\n",
       "      <th>github</th>\n",
       "      <th>blog</th>\n",
       "      <th>articles</th>\n",
       "      <th>hired</th>\n",
       "    </tr>\n",
       "  </thead>\n",
       "  <tbody>\n",
       "    <tr>\n",
       "      <th>count</th>\n",
       "      <td>5000.000000</td>\n",
       "      <td>5000.00000</td>\n",
       "      <td>5000.000000</td>\n",
       "      <td>5000.000000</td>\n",
       "      <td>5000.000000</td>\n",
       "      <td>5000.000000</td>\n",
       "      <td>5000.000000</td>\n",
       "      <td>5000.000000</td>\n",
       "      <td>5000.000000</td>\n",
       "      <td>5000.000000</td>\n",
       "      <td>5000.000000</td>\n",
       "    </tr>\n",
       "    <tr>\n",
       "      <th>mean</th>\n",
       "      <td>1.517000</td>\n",
       "      <td>39.36360</td>\n",
       "      <td>0.500800</td>\n",
       "      <td>3.521200</td>\n",
       "      <td>2.507242</td>\n",
       "      <td>17.877400</td>\n",
       "      <td>0.491400</td>\n",
       "      <td>9.754800</td>\n",
       "      <td>0.496800</td>\n",
       "      <td>20.043200</td>\n",
       "      <td>0.425800</td>\n",
       "    </tr>\n",
       "    <tr>\n",
       "      <th>std</th>\n",
       "      <td>1.119983</td>\n",
       "      <td>12.79011</td>\n",
       "      <td>0.500049</td>\n",
       "      <td>2.274068</td>\n",
       "      <td>0.872884</td>\n",
       "      <td>12.935109</td>\n",
       "      <td>0.499976</td>\n",
       "      <td>6.025076</td>\n",
       "      <td>0.500839</td>\n",
       "      <td>11.784342</td>\n",
       "      <td>0.494513</td>\n",
       "    </tr>\n",
       "    <tr>\n",
       "      <th>min</th>\n",
       "      <td>0.000000</td>\n",
       "      <td>18.00000</td>\n",
       "      <td>0.000000</td>\n",
       "      <td>0.000000</td>\n",
       "      <td>1.000000</td>\n",
       "      <td>0.000000</td>\n",
       "      <td>0.000000</td>\n",
       "      <td>0.000000</td>\n",
       "      <td>0.000000</td>\n",
       "      <td>0.000000</td>\n",
       "      <td>0.000000</td>\n",
       "    </tr>\n",
       "    <tr>\n",
       "      <th>25%</th>\n",
       "      <td>1.000000</td>\n",
       "      <td>29.00000</td>\n",
       "      <td>0.000000</td>\n",
       "      <td>2.000000</td>\n",
       "      <td>1.740000</td>\n",
       "      <td>7.000000</td>\n",
       "      <td>0.000000</td>\n",
       "      <td>5.000000</td>\n",
       "      <td>0.000000</td>\n",
       "      <td>10.000000</td>\n",
       "      <td>0.000000</td>\n",
       "    </tr>\n",
       "    <tr>\n",
       "      <th>50%</th>\n",
       "      <td>2.000000</td>\n",
       "      <td>39.00000</td>\n",
       "      <td>1.000000</td>\n",
       "      <td>4.000000</td>\n",
       "      <td>2.500000</td>\n",
       "      <td>16.000000</td>\n",
       "      <td>0.000000</td>\n",
       "      <td>10.000000</td>\n",
       "      <td>0.000000</td>\n",
       "      <td>20.000000</td>\n",
       "      <td>0.000000</td>\n",
       "    </tr>\n",
       "    <tr>\n",
       "      <th>75%</th>\n",
       "      <td>3.000000</td>\n",
       "      <td>50.00000</td>\n",
       "      <td>1.000000</td>\n",
       "      <td>5.000000</td>\n",
       "      <td>3.280000</td>\n",
       "      <td>27.000000</td>\n",
       "      <td>1.000000</td>\n",
       "      <td>15.000000</td>\n",
       "      <td>1.000000</td>\n",
       "      <td>30.000000</td>\n",
       "      <td>1.000000</td>\n",
       "    </tr>\n",
       "    <tr>\n",
       "      <th>max</th>\n",
       "      <td>3.000000</td>\n",
       "      <td>143.00000</td>\n",
       "      <td>1.000000</td>\n",
       "      <td>7.000000</td>\n",
       "      <td>4.210000</td>\n",
       "      <td>50.000000</td>\n",
       "      <td>1.000000</td>\n",
       "      <td>20.000000</td>\n",
       "      <td>2.000000</td>\n",
       "      <td>40.000000</td>\n",
       "      <td>1.000000</td>\n",
       "    </tr>\n",
       "  </tbody>\n",
       "</table>\n",
       "</div>"
      ],
      "text/plain": [
       "            degree         age       gender        major          gpa  \\\n",
       "count  5000.000000  5000.00000  5000.000000  5000.000000  5000.000000   \n",
       "mean      1.517000    39.36360     0.500800     3.521200     2.507242   \n",
       "std       1.119983    12.79011     0.500049     2.274068     0.872884   \n",
       "min       0.000000    18.00000     0.000000     0.000000     1.000000   \n",
       "25%       1.000000    29.00000     0.000000     2.000000     1.740000   \n",
       "50%       2.000000    39.00000     1.000000     4.000000     2.500000   \n",
       "75%       3.000000    50.00000     1.000000     5.000000     3.280000   \n",
       "max       3.000000   143.00000     1.000000     7.000000     4.210000   \n",
       "\n",
       "        experience     bootcamp       github         blog     articles  \\\n",
       "count  5000.000000  5000.000000  5000.000000  5000.000000  5000.000000   \n",
       "mean     17.877400     0.491400     9.754800     0.496800    20.043200   \n",
       "std      12.935109     0.499976     6.025076     0.500839    11.784342   \n",
       "min       0.000000     0.000000     0.000000     0.000000     0.000000   \n",
       "25%       7.000000     0.000000     5.000000     0.000000    10.000000   \n",
       "50%      16.000000     0.000000    10.000000     0.000000    20.000000   \n",
       "75%      27.000000     1.000000    15.000000     1.000000    30.000000   \n",
       "max      50.000000     1.000000    20.000000     2.000000    40.000000   \n",
       "\n",
       "             hired  \n",
       "count  5000.000000  \n",
       "mean      0.425800  \n",
       "std       0.494513  \n",
       "min       0.000000  \n",
       "25%       0.000000  \n",
       "50%       0.000000  \n",
       "75%       1.000000  \n",
       "max       1.000000  "
      ]
     },
     "execution_count": 10,
     "metadata": {},
     "output_type": "execute_result"
    }
   ],
   "source": [
    "data.describe()"
   ]
  },
  {
   "cell_type": "markdown",
   "metadata": {},
   "source": [
    "### Generate Missing Values & Inf"
   ]
  },
  {
   "cell_type": "code",
   "execution_count": 11,
   "metadata": {
    "collapsed": true
   },
   "outputs": [],
   "source": [
    "np.random.seed(199)\n",
    "\n",
    "# Randomly select index to corrupt\n",
    "nonsense_idx = np.random.randint(low=0, high=len(data), size=1)\n",
    "\n",
    "# simulate missing data\n",
    "data.loc[np.where(data['experience'] == 18)[0][0], 'experience'] = np.nan\n",
    "data.loc[np.where(data['github'] == 10)[0][0], 'github'] = np.nan\n",
    "\n",
    "# add 'inf' data type\n",
    "data.loc[nonsense_idx, 'articles'] = np.inf"
   ]
  },
  {
   "cell_type": "code",
   "execution_count": 12,
   "metadata": {},
   "outputs": [
    {
     "data": {
      "text/plain": [
       "array([3492])"
      ]
     },
     "execution_count": 12,
     "metadata": {},
     "output_type": "execute_result"
    }
   ],
   "source": [
    "nonsense_idx"
   ]
  },
  {
   "cell_type": "code",
   "execution_count": 13,
   "metadata": {},
   "outputs": [
    {
     "data": {
      "text/plain": [
       "degree        0\n",
       "age           0\n",
       "gender        0\n",
       "major         0\n",
       "gpa           0\n",
       "experience    1\n",
       "bootcamp      0\n",
       "github        1\n",
       "blog          0\n",
       "articles      0\n",
       "hired         0\n",
       "dtype: int64"
      ]
     },
     "execution_count": 13,
     "metadata": {},
     "output_type": "execute_result"
    }
   ],
   "source": [
    "data.isnull().sum()"
   ]
  },
  {
   "cell_type": "code",
   "execution_count": 14,
   "metadata": {},
   "outputs": [
    {
     "data": {
      "text/plain": [
       "1"
      ]
     },
     "execution_count": 14,
     "metadata": {},
     "output_type": "execute_result"
    }
   ],
   "source": [
    "np.isinf(data.articles).sum()"
   ]
  },
  {
   "cell_type": "code",
   "execution_count": 15,
   "metadata": {},
   "outputs": [
    {
     "data": {
      "text/plain": [
       "(array([11, 12]), array([5, 7]))"
      ]
     },
     "execution_count": 15,
     "metadata": {},
     "output_type": "execute_result"
    }
   ],
   "source": [
    "np.where(data.isnull())"
   ]
  },
  {
   "cell_type": "code",
   "execution_count": 16,
   "metadata": {},
   "outputs": [
    {
     "data": {
      "text/plain": [
       "degree         1.00\n",
       "age           28.00\n",
       "gender         0.00\n",
       "major          3.00\n",
       "gpa            1.55\n",
       "experience    10.00\n",
       "bootcamp       0.00\n",
       "github          NaN\n",
       "blog           1.00\n",
       "articles      19.00\n",
       "hired          1.00\n",
       "Name: 12, dtype: float64"
      ]
     },
     "execution_count": 16,
     "metadata": {},
     "output_type": "execute_result"
    }
   ],
   "source": [
    "data.iloc[12]"
   ]
  },
  {
   "cell_type": "code",
   "execution_count": 17,
   "metadata": {},
   "outputs": [
    {
     "data": {
      "text/plain": [
       "(array([3492]), array([9]))"
      ]
     },
     "execution_count": 17,
     "metadata": {},
     "output_type": "execute_result"
    }
   ],
   "source": [
    "np.where(data==np.inf)"
   ]
  },
  {
   "cell_type": "markdown",
   "metadata": {},
   "source": [
    "### Write To Disk"
   ]
  },
  {
   "cell_type": "code",
   "execution_count": 18,
   "metadata": {
    "collapsed": true
   },
   "outputs": [],
   "source": [
    "# Write to disk\n",
    "data.to_hdf('/Users/davidziganto/Work/data/simulated_messy_data.h5',\n",
    "                'table',\n",
    "                mode='w', \n",
    "                append=True, \n",
    "                complevel=9, \n",
    "                complib='blosc', \n",
    "                fletcher32=True)"
   ]
  }
 ],
 "metadata": {
  "kernelspec": {
   "display_name": "Python 2",
   "language": "python",
   "name": "python2"
  },
  "language_info": {
   "codemirror_mode": {
    "name": "ipython",
    "version": 2
   },
   "file_extension": ".py",
   "mimetype": "text/x-python",
   "name": "python",
   "nbconvert_exporter": "python",
   "pygments_lexer": "ipython2",
   "version": "2.7.13"
  }
 },
 "nbformat": 4,
 "nbformat_minor": 2
}
